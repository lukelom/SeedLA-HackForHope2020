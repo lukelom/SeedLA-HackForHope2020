{
 "cells": [
  {
   "cell_type": "code",
   "execution_count": null,
   "metadata": {},
   "outputs": [],
   "source": [
    "import numpy as np\n",
    "import pandas as pd\n",
    "import matplotlib.pyplot as plt\n",
    "from matplotlib.collections import LineCollection\n",
    "from matplotlib.colors import ListedColormap, BoundaryNorm\n",
    "%matplotlib inline\n",
    "import scipy.interpolate\n",
    "from datetime import datetime\n"
   ]
  },
  {
   "cell_type": "code",
   "execution_count": null,
   "metadata": {},
   "outputs": [],
   "source": [
    "filename = 'waqi-covid19-airqualitydata_noDC.csv'\n",
    "COVID_data = pd.read_csv(filename,skiprows=6,nrows=551928,header=0,sep=',',error_bad_lines=False,comment='#',na_values=[\"\"])\n",
    "filename = 'los-angeles-north main street-air-quality.csv'\n",
    "LA_5yr_data = pd.read_csv(filename,nrows=2186,header=0,sep=',',comment='#',na_values=[\"\"])"
   ]
  },
  {
   "cell_type": "code",
   "execution_count": null,
   "metadata": {},
   "outputs": [],
   "source": [
    "#sort by date\n",
    "COVID_LA = COVID_data.copy()\n",
    "COVID_LA = COVID_data[(COVID_data['City'] == \"Los Angeles\") & (COVID_data['Specie'] == \"pm25\")]\n",
    "COVID_LA[\"Date\"] = pd.to_datetime(COVID_LA[\"Date\"])\n",
    "COVID_LA = COVID_LA.sort_values(by=\"Date\")\n",
    "#pull out median to plot\n",
    "date = COVID_LA['Date']\n",
    "med = COVID_LA['median']\n",
    "avg_LA = np.average(med)\n",
    "print(avg_LA)"
   ]
  },
  {
   "cell_type": "code",
   "execution_count": null,
   "metadata": {},
   "outputs": [],
   "source": [
    "#historic data\n",
    "#historic_LA['date'] = pd.to_datetime(historic_LA['date'])\n",
    "historic_LA_pm25 = LA_5yr_data[' pm25']\n",
    "historic_LA_avg = np.average(historic_LA_pm25)\n",
    "historic_LA_avg2017 = np.average(historic_LA_pm25)\n",
    "print(historic_LA_avg)\n",
    "print(1-avg_LA/historic_LA_avg)\n",
    "LA_5yr_data['date'] = pd.to_datetime(LA_5yr_data['date'],errors='raise', yearfirst=True)\n",
    "LA_5yr_data.head()\n",
    "#LA_5yr_data = LA_5yr_data.sort_values(by=\"date\")"
   ]
  },
  {
   "cell_type": "code",
   "execution_count": null,
   "metadata": {},
   "outputs": [],
   "source": [
    "fig, ax = plt.subplots()\n",
    "ax.plot(LA_5yr_data['date'], LA_5yr_data[' pm25'], 'r')\n",
    "#clearly an outlier in the data set"
   ]
  },
  {
   "cell_type": "code",
   "execution_count": null,
   "metadata": {},
   "outputs": [],
   "source": [
    "LA_5yr_data.truncate('2017-01-01':)\n",
    "fig, ax = plt.subplots()\n",
    "ax.plot(LA_5yr_data.truncate('2017-01-01':)['date'], LA_5yr_data.truncate('2017-01-01':)[' pm25'], 'r')"
   ]
  },
  {
   "cell_type": "code",
   "execution_count": null,
   "metadata": {},
   "outputs": [],
   "source": [
    "#multi-color lines\n",
    "points_LA = np.array([date, med]).T.reshape(-1, 1, 2)\n",
    "segments = np.concatenate([points_LA[:-1], points_LA[1:]], axis=1)\n",
    "#...not finished"
   ]
  },
  {
   "cell_type": "code",
   "execution_count": null,
   "metadata": {},
   "outputs": [],
   "source": [
    "#apply AQI bins\n",
    "COVID_LA['status'] = pd.cut(COVID_LA['median'], bins=[-1, 12, 35.4, 55.4, 150.4, 250.4, 500.4], labels=False)\n",
    "labels = np.array(['Good', 'Moderate', 'Unhealthy for Sensitive Groups', 'Unhealthy', 'Very Unhealthy', 'Hazardous'])\n",
    "COVID_LA['status'] = labels[COVID_LA['status']]"
   ]
  },
  {
   "cell_type": "code",
   "execution_count": null,
   "metadata": {},
   "outputs": [],
   "source": [
    "#collect data from other cities ... make function to pull out data by city?\n",
    "#COVID_China = COVID_data[(COVID_data['City'] == \"Changzhou\") & (COVID_data['Specie'] == \"pm25\")]\n",
    "#COVID_India = COVID_data[(COVID_data['City'] == \"New Delhi\") & (COVID_data['Specie'] == \"pm25\")]"
   ]
  },
  {
   "cell_type": "code",
   "execution_count": 24,
   "metadata": {},
   "outputs": [],
   "source": [
    "#safer at home starting March 19\n",
    "preCOVID_date = pd.array(['2019-12-30', '2020-03-19'])\n",
    "preCOVID_pm25 = pd.array([historic_LA_avg, historic_LA_avg])\n",
    "preCOVID_date = pd.to_datetime(preCOVID_date)"
   ]
  },
  {
   "cell_type": "code",
   "execution_count": 25,
   "metadata": {},
   "outputs": [
    {
     "data": {
      "image/png": "[encoded data removed]",
      "text/plain": [
       "<Figure size 432x288 with 1 Axes>"
      ]
     },
     "metadata": {
      "needs_background": "light"
     },
     "output_type": "display_data"
    }
   ],
   "source": [
    "#plot\n",
    "fig, ax = plt.subplots()\n",
    "ax.plot(date, COVID_LA['median'], 'g')\n",
    "#plot variations ... some of which don't work\n",
    "#plot with benchmark pre-COVID\n",
    "#ax.plot(date, COVID_LA['median'], 'g',preCOVID_date, preCOVID_pm25, 'r--')\n",
    "#plot full historic data\n",
    "#ax.plot(date, COVID_LA['median'], 'g',historic_date, historic_LA, 'r')\n",
    "#plot looking at other countries\n",
    "#ax.plot(date, COVID_LA['median'], 'g',date, COVID_China['median'], 'r.',date, COVID_India['median'], 'b.')\n",
    "ax.set(ylabel='PM 2.5 (ug/m3)',title='Los Angeles')\n",
    "plt.xticks(rotation=45)\n",
    "plt.show()"
   ]
  },
  {
   "cell_type": "code",
   "execution_count": null,
   "metadata": {},
   "outputs": [],
   "source": [
    "#create function to convert to \n",
    "#def conc2aqi(x):\n",
    "    #aqi['status'] = pd.cut(COVID_LA['median'], bins=[-1, 12, 35.4, 55.4, 150.4, 250.4, 500.4], labels=False)\n",
    "#could define funciton by status (each status would have a different line fuction)"
   ]
  },
  {
   "cell_type": "code",
   "execution_count": null,
   "metadata": {},
   "outputs": [],
   "source": [
    "git remote add origin https://github.com/lukelom/SeedLA-HackForHope2020.git\n",
    "git push -u origin master"
   ]
  }
 ],
 "metadata": {
  "kernelspec": {
   "display_name": "Python 3",
   "language": "python",
   "name": "python3"
  },
  "language_info": {
   "codemirror_mode": {
    "name": "ipython",
    "version": 3
   },
   "file_extension": ".py",
   "mimetype": "text/x-python",
   "name": "python",
   "nbconvert_exporter": "python",
   "pygments_lexer": "ipython3",
   "version": "3.7.3"
  }
 },
 "nbformat": 4,
 "nbformat_minor": 2
}
